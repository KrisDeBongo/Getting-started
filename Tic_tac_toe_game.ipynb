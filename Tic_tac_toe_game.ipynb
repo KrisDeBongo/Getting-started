{
 "cells": [
  {
   "cell_type": "markdown",
   "metadata": {},
   "source": [
    "# Tic Tac Toe game"
   ]
  },
  {
   "cell_type": "code",
   "execution_count": 5,
   "metadata": {},
   "outputs": [],
   "source": [
    "from IPython.display import clear_output\n",
    "\n",
    "def display_board(board, available):\n",
    "    \"\"\"\n",
    "    Creating the board and template of the board\n",
    "    \"\"\"\n",
    "    \n",
    "    clear_output()\n",
    "    spacing = \"                                  \"\n",
    "    dashes = \"-----------\"\n",
    "    print(f\"Your game is here                  Your available options are is\\n {board[7]} | {board[8]} | {board[9]}{spacing}{nums[7]} | {nums[8]} | {nums[9]}\\n{dashes}{spacing[-3::-1]}{dashes}\\n {board[4]} | {board[5]} | {board[6]}{spacing}{nums[4]} | {nums[5]} | {nums[6]}   \\n{dashes}{spacing[-3::-1]}{dashes}\\n {board[1]} | {board[2]} | {board[3]}{spacing}{nums[1]} | {nums[2]} | {nums[3]}   \")\n",
    "    \n",
    "#THE OLD WAY\n",
    "\n",
    "# def display_board(board):\n",
    "#     clear_output()\n",
    "#     print(f\"{board[7]} | {board[8]} | {board[9]}\\n---------\")\n",
    "#     print(f\"{board[4]} | {board[5]} | {board[6]}\\n---------\")\n",
    "#     print(f\"{board[1]} | {board[2]} | {board[3]}\")    "
   ]
  },
  {
   "cell_type": "code",
   "execution_count": 6,
   "metadata": {},
   "outputs": [],
   "source": [
    "def player_chooser():\n",
    "    \"\"\"\n",
    "    Choosing players\n",
    "    OUTPUT = (player 1 marker, player 2 marker)\n",
    "    \"\"\"\n",
    "    marker = \"\"\n",
    "    while marker != \"X\" and marker != \"O\": #while not (marker == \"X\" or marker == \"O\")\n",
    "        marker = input(\"Player 1, would you like to be X or O? \\n\").upper()\n",
    "        \n",
    "    if marker == \"X\":\n",
    "        print(\"Player 2 - you are going to be O\")\n",
    "        return (\"X\", \"O\")\n",
    "    else:\n",
    "        print(\"Player 2 - you are going to be X\")\n",
    "        return (\"O\", \"X\")"
   ]
  },
  {
   "cell_type": "code",
   "execution_count": 7,
   "metadata": {},
   "outputs": [],
   "source": [
    "def place_marker(board, marker, position):\n",
    "    \"\"\"\n",
    "    Placing marker on the position\n",
    "    \"\"\"\n",
    "    board[position] = marker    "
   ]
  },
  {
   "cell_type": "code",
   "execution_count": 8,
   "metadata": {},
   "outputs": [],
   "source": [
    "def win_check(board, marker):\n",
    "    \"\"\"\n",
    "    Checking verticals, horizontals and diagonals line for win\n",
    "    \"\"\"\n",
    "    \n",
    "    return ((board[7] == board[8] == board[9] == marker) or\n",
    "    (board[4] == board[5] == board[6] == marker) or\n",
    "    (board[1] == board[2] == board[3] == marker) or\n",
    "    (board[7] == board[4] == board[1] == marker) or\n",
    "    (board[8] == board[5] == board[2] == marker) or\n",
    "    (board[9] == board[6] == board[3] == marker) or \n",
    "    (board[1] == board[5] == board[9] == marker) or\n",
    "    (board[7] == board[5] == board[3] == marker))"
   ]
  },
  {
   "cell_type": "code",
   "execution_count": 9,
   "metadata": {},
   "outputs": [],
   "source": [
    "def choose_first():\n",
    "    \"\"\"\n",
    "    Flipcoin for determining which players goes first\n",
    "    \"\"\"\n",
    "    from random import randint\n",
    "    coin_flip = randint(0,1)\n",
    "    if coin_flip == 0:\n",
    "        return \"Player 1\"\n",
    "    else:\n",
    "        return \"Player 2\""
   ]
  },
  {
   "cell_type": "code",
   "execution_count": 10,
   "metadata": {},
   "outputs": [],
   "source": [
    "def space_check(board, position):\n",
    "    \"\"\"\n",
    "    Checking if chosen position is empty\n",
    "    \"\"\"\n",
    "    return board[position] == ' '"
   ]
  },
  {
   "cell_type": "code",
   "execution_count": 11,
   "metadata": {},
   "outputs": [],
   "source": [
    "def full_board_check(board):\n",
    "    \"\"\"\n",
    "    Checking if the board is full (if at least one empty)\n",
    "    \"\"\"\n",
    "    \n",
    "    if \" \" in board[1:]:\n",
    "        return False\n",
    "    else:\n",
    "        return True\n",
    "    \n",
    "#     for i in range(1,10):\n",
    "#         if space_check(board, i):\n",
    "#             return False\n",
    "    \n",
    "#     return True"
   ]
  },
  {
   "cell_type": "code",
   "execution_count": 12,
   "metadata": {},
   "outputs": [],
   "source": [
    "def player_choice(board):\n",
    "    \"\"\"\n",
    "    Check if player choice is correct (in the board and not on occupied place) and return is as a choice\n",
    "    \"\"\"\n",
    "    \n",
    "    position = 0\n",
    "    \n",
    "    while position not in range(1,10) or not space_check(board, position):\n",
    "        position = int(input(\"Please tell me position you want to play your marker (1-9) \\n\"))\n",
    "        \n",
    "    return position"
   ]
  },
  {
   "cell_type": "code",
   "execution_count": 13,
   "metadata": {},
   "outputs": [],
   "source": [
    "def replay():\n",
    "    \"\"\"\n",
    "    Asking players if they want to play again\n",
    "    \"\"\"\n",
    "    \n",
    "    again = ' ' \n",
    "    while again != \"Yes\" and again != \"No\":\n",
    "        again = input(\"Would you like to play again? Yes or No \\n\")\n",
    "    if again == \"Yes\":\n",
    "        return True\n",
    "    elif again == \"No\":\n",
    "        return False      "
   ]
  },
  {
   "cell_type": "code",
   "execution_count": 16,
   "metadata": {},
   "outputs": [],
   "source": [
    "def tic_tac_toe():\n",
    "\n",
    "    print('Welcome to Tic Tac Toe')\n",
    "\n",
    "    while True:\n",
    "\n",
    "        # Setting up the board, arranging markers and turns, asking if ready to play\n",
    "\n",
    "        board = [' ']*10\n",
    "        nums = range(0,10)\n",
    "        player1_marker, player2_marker = player_chooser()\n",
    "        turn = choose_first()\n",
    "        print(f\"{turn} is going to be first\")\n",
    "\n",
    "        play_game = input(\"Are you ready to play? Write y or n! \")\n",
    "\n",
    "        if play_game == \"y\":\n",
    "            game_on = True\n",
    "        else:\n",
    "            game_on = False\n",
    "\n",
    "        ## GAME PLAY\n",
    "\n",
    "        while game_on:\n",
    "            if turn == \"Player 1\":\n",
    "\n",
    "                # Show the board\n",
    "                display_board(board, nums) \n",
    "\n",
    "                # Player chooses the position\n",
    "                position = player_choice(board)\n",
    "\n",
    "                # Place the marker on the position and display it\n",
    "                place_marker(board, player1_marker, position)\n",
    "\n",
    "                # Check for player's win\n",
    "                if win_check(board, player1_marker):\n",
    "                    display_board(board, nums) \n",
    "                    print(\"Congratulations, you have won the game Player 1!\")\n",
    "                    game_on = False\n",
    "\n",
    "                # Check for tie and if all good - pass the turn to the other player\n",
    "                else:\n",
    "                    if full_board_check(board):\n",
    "                        display_board(board, nums) \n",
    "                        print(\"It was a tie!\")\n",
    "                        game_on = False\n",
    "                    else: \n",
    "                        turn = \"Player 2\"\n",
    "\n",
    "\n",
    "            else:\n",
    "                display_board(board, nums)  \n",
    "                position = player_choice(board)\n",
    "                place_marker(board, player2_marker, position)\n",
    "                if win_check(board, player2_marker):\n",
    "                    display_board(board, nums) \n",
    "                    print(\"Congratulations, you have won the game Player 2!\")\n",
    "                    game_on = False\n",
    "                else:\n",
    "                    if full_board_check(board):\n",
    "                        display_board(board, nums) \n",
    "                        print(\"It was a tie!\")\n",
    "                        game_on = False\n",
    "                    else: \n",
    "                        turn = \"Player 1\"\n",
    "\n",
    "        if not replay():\n",
    "            print(\"Thanks for playing with us!\")\n",
    "            break"
   ]
  },
  {
   "cell_type": "code",
   "execution_count": 17,
   "metadata": {
    "scrolled": true
   },
   "outputs": [
    {
     "name": "stdout",
     "output_type": "stream",
     "text": [
      "Your game is here                  Your available options are is\n",
      " X |   |                                    7 | 8 | 9\n",
      "-----------                                -----------\n",
      " O | X | O                                  4 | 5 | 6   \n",
      "-----------                                -----------\n",
      " X | O | X                                  1 | 2 | 3   \n",
      "Congratulations, you have won the game Player 1!\n",
      "Would you like to play again? Yes or No \n",
      "No\n",
      "Thanks for playing with us!\n"
     ]
    }
   ],
   "source": [
    "tic_tac_toe()"
   ]
  }
 ],
 "metadata": {
  "kernelspec": {
   "display_name": "Python 3",
   "language": "python",
   "name": "python3"
  },
  "language_info": {
   "codemirror_mode": {
    "name": "ipython",
    "version": 3
   },
   "file_extension": ".py",
   "mimetype": "text/x-python",
   "name": "python",
   "nbconvert_exporter": "python",
   "pygments_lexer": "ipython3",
   "version": "3.7.0"
  }
 },
 "nbformat": 4,
 "nbformat_minor": 1
}
