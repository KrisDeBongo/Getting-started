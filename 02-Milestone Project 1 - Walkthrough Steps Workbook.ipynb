{
 "cells": [
  {
   "cell_type": "markdown",
   "metadata": {},
   "source": [
    "# Milestone Project 1: Walkthrough Steps Workbook\n",
    "\n",
    "Below is a set of steps for you to follow to try to create the Tic Tac Toe Milestone Project game!"
   ]
  },
  {
   "cell_type": "markdown",
   "metadata": {},
   "source": [
    "#### Some suggested tools before you get started:\n",
    "To take input from a user:\n",
    "\n",
    "    player1 = input(\"Please pick a marker 'X' or 'O'\")\n",
    "    \n",
    "Note that input() takes in a string. If you need an integer value, use\n",
    "\n",
    "    position = int(input('Please enter a number'))\n",
    "    \n",
    "<br>To clear the screen between moves:\n",
    "\n",
    "    from IPython.display import clear_output\n",
    "    clear_output()\n",
    "    \n",
    "Note that clear_output() will only work in jupyter. To clear the screen in other IDEs, consider:\n",
    "\n",
    "    print('\\n'*100)\n",
    "    \n",
    "This scrolls the previous board up out of view. Now on to the program!"
   ]
  },
  {
   "cell_type": "markdown",
   "metadata": {},
   "source": [
    "**Step 1: Write a function that can print out a board. Set up your board as a list, where each index 1-9 corresponds with a number on a number pad, so you get a 3 by 3 board representation.**"
   ]
  },
  {
   "cell_type": "code",
   "execution_count": 2,
   "metadata": {},
   "outputs": [],
   "source": [
    "from IPython.display import clear_output\n",
    "\n",
    "def display_board(board):\n",
    "    clear_output()\n",
    "    print(f\"{board[7]} | {board[8]} | {board[9]}\\n---------\")\n",
    "    print(f\"{board[4]} | {board[5]} | {board[6]}\\n---------\")\n",
    "    print(f\"{board[1]} | {board[2]} | {board[3]}\")"
   ]
  },
  {
   "cell_type": "code",
   "execution_count": 3,
   "metadata": {},
   "outputs": [],
   "source": [
    "from IPython.display import clear_output\n",
    "\n",
    "def display_board(board, available):\n",
    "    clear_output()\n",
    "    spacing = \"                                  \"\n",
    "    dashes = \"-----------\"\n",
    "    print(f\"Your game is here                  Your available options are is\\n {board[7]} | {board[8]} | {board[9]}{spacing}{nums[7]} | {nums[8]} | {nums[9]}\\n{dashes}{spacing[-3::-1]}{dashes}\\n {board[4]} | {board[5]} | {board[6]}{spacing}{nums[4]} | {nums[5]} | {nums[6]}   \\n{dashes}{spacing[-3::-1]}{dashes}\\n {board[1]} | {board[2]} | {board[3]}{spacing}{nums[1]} | {nums[2]} | {nums[3]}   \")"
   ]
  },
  {
   "cell_type": "markdown",
   "metadata": {},
   "source": [
    "#### Step 2"
   ]
  },
  {
   "cell_type": "code",
   "execution_count": 4,
   "metadata": {},
   "outputs": [
    {
     "name": "stdout",
     "output_type": "stream",
     "text": [
      "Your game is here                  Your available options are is\n",
      "   |   |                                    7 | 8 | 9\n",
      "-----------                                -----------\n",
      "   |   |                                    4 | 5 | 6   \n",
      "-----------                                -----------\n",
      "   |   |                                    1 | 2 | 3   \n"
     ]
    }
   ],
   "source": [
    "board = [' ']*10\n",
    "nums = range(0,11)\n",
    "display_board(board, nums)"
   ]
  },
  {
   "cell_type": "code",
   "execution_count": 5,
   "metadata": {},
   "outputs": [],
   "source": [
    "def player_chooser():\n",
    "    \n",
    "    '''\n",
    "    OUTPUT = (player 1 marker, player 2 marker)\n",
    "    '''\n",
    "    marker = \"\"\n",
    "    while marker != \"X\" and marker != \"O\": #while not (marker == \"X\" or marker == \"O\")\n",
    "        marker = input(\"Player 1, would you like to be X or O? \\n\").upper()\n",
    "        \n",
    "    if marker == \"X\":\n",
    "        print(\"Player 2 - you are going to be O\")\n",
    "        return (\"X\", \"O\")\n",
    "    else:\n",
    "        print(\"Player 2 - you are going to be X\")\n",
    "        return (\"O\", \"X\")"
   ]
  },
  {
   "cell_type": "markdown",
   "metadata": {},
   "source": [
    "**Step 3: Write a function that takes in the board list object, a marker ('X' or 'O'), and a desired position (number 1-9) and assigns it to the board.**"
   ]
  },
  {
   "cell_type": "code",
   "execution_count": 6,
   "metadata": {},
   "outputs": [],
   "source": [
    "def place_marker(board, marker, position):\n",
    "    board[position] = marker    "
   ]
  },
  {
   "cell_type": "code",
   "execution_count": 7,
   "metadata": {},
   "outputs": [],
   "source": [
    "# place_marker(board,'s',7)\n",
    "# display_board(board, available)"
   ]
  },
  {
   "cell_type": "markdown",
   "metadata": {},
   "source": [
    "**Step 4: Write a function that takes in a board and a mark (X or O) and then checks to see if that mark has won. **"
   ]
  },
  {
   "cell_type": "code",
   "execution_count": 8,
   "metadata": {},
   "outputs": [],
   "source": [
    "def win_check(board, marker):\n",
    "    win = False\n",
    "    while not win:\n",
    "        if board[7] == board[8] == board[9] == marker:\n",
    "            win = True\n",
    "        elif board[4] == board[5] == board[6] == marker:\n",
    "            win = True\n",
    "        elif board[1] == board[2] == board[3] == marker:\n",
    "            win = True\n",
    "        elif board[7] == board[4] == board[1] == marker:\n",
    "            win = True\n",
    "        elif board[8] == board[5] == board[2] == marker:\n",
    "            win = True\n",
    "        elif board[9] == board[6] == board[3] == marker:\n",
    "            win = True\n",
    "        elif board[1] == board[5] == board[9] == marker:\n",
    "            win = True\n",
    "        elif board[7] == board[5] == board[3] == marker:\n",
    "            win = True\n",
    "        break\n",
    "    if win == True:\n",
    "        return True\n",
    "    else:\n",
    "        return False"
   ]
  },
  {
   "cell_type": "code",
   "execution_count": 9,
   "metadata": {},
   "outputs": [],
   "source": [
    "def win_check(board, marker):\n",
    "    \n",
    "    return ((board[7] == board[8] == board[9] == marker) or\n",
    "    (board[4] == board[5] == board[6] == marker) or\n",
    "    (board[1] == board[2] == board[3] == marker) or\n",
    "    (board[7] == board[4] == board[1] == marker) or\n",
    "    (board[8] == board[5] == board[2] == marker) or\n",
    "    (board[9] == board[6] == board[3] == marker) or \n",
    "    (board[1] == board[5] == board[9] == marker) or\n",
    "    (board[7] == board[5] == board[3] == marker))"
   ]
  },
  {
   "cell_type": "markdown",
   "metadata": {},
   "source": [
    "**TEST Step 4:** run the win_check function against our test_board - it should return True"
   ]
  },
  {
   "cell_type": "code",
   "execution_count": 10,
   "metadata": {},
   "outputs": [],
   "source": [
    "# win_check(test_board, player1_marker)"
   ]
  },
  {
   "cell_type": "markdown",
   "metadata": {},
   "source": [
    "**Step 5: Write a function that uses the random module to randomly decide which player goes first. You may want to lookup random.randint() Return a string of which player went first.**"
   ]
  },
  {
   "cell_type": "code",
   "execution_count": 11,
   "metadata": {},
   "outputs": [],
   "source": [
    "# from random import randint\n",
    "\n",
    "# def choose_first():\n",
    "#     from random import randint\n",
    "#     coin_flip = randint(0,1)\n",
    "#     #print(a)\n",
    "#     if coin_flip == 0:\n",
    "#         first_player = player1_marker\n",
    "#         second_player = player2_marker\n",
    "#         print(f\"First player is going to be {first_player}\")\n",
    "#     else:\n",
    "#         print(f\"First player is going to be {player2_marker}\")\n",
    "#         first_player = player2_marker\n",
    "#         second_player = player1_marker\n",
    "        \n",
    "#     return (first_player, second_player)"
   ]
  },
  {
   "cell_type": "code",
   "execution_count": 12,
   "metadata": {},
   "outputs": [],
   "source": [
    "def choose_first():\n",
    "    from random import randint\n",
    "    coin_flip = randint(0,1)\n",
    "    if coin_flip == 0:\n",
    "        return \"Player 1\"\n",
    "    else:\n",
    "        return \"Player 2\""
   ]
  },
  {
   "cell_type": "code",
   "execution_count": 13,
   "metadata": {
    "scrolled": false
   },
   "outputs": [],
   "source": [
    "# first_player = choose_first()\n",
    "# print(first_player[0])"
   ]
  },
  {
   "cell_type": "markdown",
   "metadata": {},
   "source": [
    "**Step 6: Write a function that returns a boolean indicating whether a space on the board is freely available.**"
   ]
  },
  {
   "cell_type": "code",
   "execution_count": 14,
   "metadata": {},
   "outputs": [],
   "source": [
    "# board = [\"X\"]*10\n",
    "def space_check(board, position):\n",
    "    return board[position] == ' '"
   ]
  },
  {
   "cell_type": "code",
   "execution_count": 15,
   "metadata": {
    "scrolled": true
   },
   "outputs": [
    {
     "data": {
      "text/plain": [
       "True"
      ]
     },
     "execution_count": 15,
     "metadata": {},
     "output_type": "execute_result"
    }
   ],
   "source": [
    "space_check(board, 8)"
   ]
  },
  {
   "cell_type": "markdown",
   "metadata": {},
   "source": [
    "**Step 7: Write a function that checks if the board is full and returns a boolean value. True if full, False otherwise.**"
   ]
  },
  {
   "cell_type": "code",
   "execution_count": 16,
   "metadata": {},
   "outputs": [],
   "source": [
    "def full_board_check(board):\n",
    "    \n",
    "    for i in range(1,10):\n",
    "        if space_check(board, i):\n",
    "            return False\n",
    "    \n",
    "    return True"
   ]
  },
  {
   "cell_type": "code",
   "execution_count": 17,
   "metadata": {},
   "outputs": [
    {
     "data": {
      "text/plain": [
       "False"
      ]
     },
     "execution_count": 17,
     "metadata": {},
     "output_type": "execute_result"
    }
   ],
   "source": [
    "full_board_check(board)"
   ]
  },
  {
   "cell_type": "markdown",
   "metadata": {},
   "source": [
    "**Step 8: Write a function that asks for a player's next position (as a number 1-9) and then uses the function from step 6 to check if it's a free position. If it is, then return the position for later use.**"
   ]
  },
  {
   "cell_type": "code",
   "execution_count": 18,
   "metadata": {},
   "outputs": [],
   "source": [
    "def player_choice(board):\n",
    "    \n",
    "    position = 0\n",
    "    \n",
    "    while position not in range(1,10) or not space_check(board, position):\n",
    "        position = int(input(\"Please tell me position you want to play your marker (1-9) \\n\"))\n",
    "        \n",
    "    return position\n",
    "    \n",
    "#     keep_on=True\n",
    "#     while keep_on:\n",
    "#         position = int(input(\"Please tell me position you want to play your marker (1-9) \\n\"))\n",
    "#         if space_check(board, position):\n",
    "#             return position\n",
    "#         else:\n",
    "#             print(\"it is occupied position, try again\")\n"
   ]
  },
  {
   "cell_type": "markdown",
   "metadata": {},
   "source": [
    "**Step 9: Write a function that asks the player if they want to play again and returns a boolean True if they do want to play again.**"
   ]
  },
  {
   "cell_type": "code",
   "execution_count": 19,
   "metadata": {},
   "outputs": [],
   "source": [
    "def replay():\n",
    "    again = ' ' \n",
    "    while again != \"Yes\" and again != \"No\":\n",
    "        again = input(\"Would you like to play again? Yes or No \\n\")\n",
    "    if again == \"Yes\":\n",
    "        return True\n",
    "    elif again == \"No\":\n",
    "        return False\n",
    " \n",
    "        "
   ]
  },
  {
   "cell_type": "code",
   "execution_count": 20,
   "metadata": {},
   "outputs": [],
   "source": [
    "#replay()"
   ]
  },
  {
   "cell_type": "markdown",
   "metadata": {
    "collapsed": true
   },
   "source": [
    "**Step 10: Here comes the hard part! Use while loops and the functions you've made to run the game!**"
   ]
  },
  {
   "cell_type": "code",
   "execution_count": 21,
   "metadata": {},
   "outputs": [
    {
     "name": "stdout",
     "output_type": "stream",
     "text": [
      "Your game is here                  Your available options are is\n",
      " O |   |                                    7 | 8 | 9\n",
      "-----------                                -----------\n",
      " X | O | X                                  4 | 5 | 6   \n",
      "-----------                                -----------\n",
      " O | X | O                                  1 | 2 | 3   \n",
      "Congratulations, you have won the game Player 1!\n",
      "Would you like to play again? Yes or No \n",
      "No\n",
      "Thanks for playing with us!\n"
     ]
    }
   ],
   "source": [
    "print('Welcome to Tic Tac Toe')\n",
    "\n",
    "while True:\n",
    "    \n",
    "    # Setting up the board, arranging markers and turns\n",
    "    \n",
    "    board = [' ']*10\n",
    "    available = range(0,10)\n",
    "    player1_marker, player2_marker = player_chooser()\n",
    "    turn = choose_first()\n",
    "    print(f\"{turn} is going to be first\")\n",
    "      \n",
    "    play_game = input(\"Are you ready to play? Write y or n! \")\n",
    "      \n",
    "    if play_game == \"y\":\n",
    "        game_on = True\n",
    "    else:\n",
    "        game_on = False\n",
    "      \n",
    "    ## GAME PLAY\n",
    "\n",
    "    while game_on:\n",
    "        if turn == \"Player 1\":\n",
    "            \n",
    "            # Show the board\n",
    "            display_board(board, available) \n",
    "            \n",
    "            # Player chooses the position\n",
    "            position = player_choice(board)\n",
    "            \n",
    "            # Place the marker on the position and display it\n",
    "            place_marker(board, player1_marker, position)\n",
    "            \n",
    "            # Check for player's win\n",
    "            if win_check(board, player1_marker):\n",
    "                display_board(board, available)\n",
    "                print(\"Congratulations, you have won the game Player 1!\")\n",
    "                game_on = False\n",
    "                \n",
    "            # Check for tie and if all good - pass the turn to the other player\n",
    "            else:\n",
    "                if full_board_check(board):\n",
    "                    display_board(board, available)\n",
    "                    print(\"It was a tie!\")\n",
    "                    game_on = False\n",
    "                else: \n",
    "                    turn = \"Player 2\"\n",
    "\n",
    "      \n",
    "        else:\n",
    "            display_board(board, available) \n",
    "            position = player_choice(board)\n",
    "            place_marker(board, player2_marker, position)\n",
    "            if win_check(board, player2_marker):\n",
    "                display_board(board, available)\n",
    "                print(\"Congratulations, you have won the game Player 2!\")\n",
    "                game_on = False\n",
    "            else:\n",
    "                if full_board_check(board):\n",
    "                    display_board(board, available)\n",
    "                    print(\"It was a tie!\")\n",
    "                    game_on = False\n",
    "                else: \n",
    "                    turn = \"Player 1\"\n",
    "      \n",
    "    if not replay():\n",
    "        print(\"Thanks for playing with us!\")\n",
    "        break\n"
   ]
  },
  {
   "cell_type": "code",
   "execution_count": null,
   "metadata": {},
   "outputs": [],
   "source": []
  },
  {
   "cell_type": "code",
   "execution_count": null,
   "metadata": {},
   "outputs": [],
   "source": []
  },
  {
   "cell_type": "code",
   "execution_count": null,
   "metadata": {},
   "outputs": [],
   "source": []
  },
  {
   "cell_type": "code",
   "execution_count": null,
   "metadata": {},
   "outputs": [],
   "source": []
  },
  {
   "cell_type": "code",
   "execution_count": 22,
   "metadata": {},
   "outputs": [],
   "source": [
    "#         position = player_choice(board)\n",
    "#         place_marker(board, first_player[0], position)\n",
    "#         display_board(board, available)\n",
    "#         if win_check(board, first_player[0]):r\n",
    "#             print(\"Congratulations, you have won the game \" + first_player[0])\n",
    "#             break\n",
    "#         if full_board_check(board):\n",
    "#             continue\n",
    "\n",
    "#         position = player_choice(board)\n",
    "#         place_marker(board, first_player[1], position)\n",
    "#         display_board(board, available)\n",
    "#         if win_check(board, first_player[1]):\n",
    "#             print(\"Congratulations, you have won the game \" + first_player[1])\n",
    "#             break\n",
    "            \n",
    "#     print(\"It was a tie!\")"
   ]
  },
  {
   "cell_type": "code",
   "execution_count": 23,
   "metadata": {},
   "outputs": [],
   "source": [
    "# print('Welcome to Tic Tac Toe!')\n",
    "# game_on = True\n",
    "\n",
    "# # While the game is on - play\n",
    "\n",
    "# while game_on:\n",
    "#     board = [' ']*10\n",
    "#     available=range(0,10)\n",
    "#     player1_marker, player2_marker = player_chooser()\n",
    "#     first_player = choose_first()\n",
    "#     display_board(board, available)\n",
    "\n",
    "#     # While board is not full and there was no win -> play\n",
    "\n",
    "#     while not full_board_check(board):\n",
    "\n",
    "#         position = player_choice(board)\n",
    "#         place_marker(board, first_player[0], position)\n",
    "#         display_board(board, available)\n",
    "#         if win_check(board, first_player[0]):\n",
    "#             print(\"Congratulations, you have won the game \" + first_player[0])\n",
    "#             break\n",
    "\n",
    "#         position = player_choice(board)\n",
    "#         place_marker(board, first_player[1], position)\n",
    "#         display_board(board, available)\n",
    "#         if win_check(board, first_player[1]):\n",
    "#             print(\"Congratulations, you have won the game \" + first_player[1])\n",
    "#             break\n",
    "\n",
    "\n",
    "#     if not replay():\n",
    "#         print(\"Thanks for playing with us!\")\n",
    "#         break"
   ]
  }
 ],
 "metadata": {
  "kernelspec": {
   "display_name": "Python 3",
   "language": "python",
   "name": "python3"
  },
  "language_info": {
   "codemirror_mode": {
    "name": "ipython",
    "version": 3
   },
   "file_extension": ".py",
   "mimetype": "text/x-python",
   "name": "python",
   "nbconvert_exporter": "python",
   "pygments_lexer": "ipython3",
   "version": "3.7.0"
  }
 },
 "nbformat": 4,
 "nbformat_minor": 1
}
